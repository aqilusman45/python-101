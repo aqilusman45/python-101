{
 "cells": [
  {
   "cell_type": "markdown",
   "metadata": {},
   "source": [
    "# Else and Elif  statements"
   ]
  },
  {
   "cell_type": "code",
   "execution_count": 6,
   "metadata": {},
   "outputs": [
    {
     "name": "stdout",
     "output_type": "stream",
     "text": [
      "Do you have experience for this job (y/n):y\n",
      "Do you have a reference (y/n):y\n",
      "You can apply\n"
     ]
    }
   ],
   "source": [
    "haveExperience = input(\"Do you have experience for this job (y/n):\")\n",
    "haveReference = input(\"Do you have a reference (y/n):\")\n",
    "if(haveExperience == 'y'):\n",
    "    print(\"You can apply\")\n",
    "elif(haveReference == 'y'):\n",
    "    print(\"You can apply\")\n",
    "else:\n",
    "    print(\"You cannot apply\")\n"
   ]
  },
  {
   "cell_type": "code",
   "execution_count": null,
   "metadata": {},
   "outputs": [],
   "source": []
  }
 ],
 "metadata": {
  "kernelspec": {
   "display_name": "Python 3",
   "language": "python",
   "name": "python3"
  },
  "language_info": {
   "codemirror_mode": {
    "name": "ipython",
    "version": 3
   },
   "file_extension": ".py",
   "mimetype": "text/x-python",
   "name": "python",
   "nbconvert_exporter": "python",
   "pygments_lexer": "ipython3",
   "version": "3.7.3"
  }
 },
 "nbformat": 4,
 "nbformat_minor": 2
}
