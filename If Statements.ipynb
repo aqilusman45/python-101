{
 "cells": [
  {
   "cell_type": "markdown",
   "metadata": {},
   "source": [
    "# If Statements"
   ]
  },
  {
   "cell_type": "code",
   "execution_count": 1,
   "metadata": {},
   "outputs": [
    {
     "name": "stdout",
     "output_type": "stream",
     "text": [
      "Enter your age: 1\n",
      "You cannot enter.\n"
     ]
    }
   ],
   "source": [
    "age = int(input(\"Enter your age: \"))\n",
    "\n",
    "if(age >= 18):\n",
    "    print(\"You are eligible\")\n",
    "    ticket = input(\"Do you have a ticket (y/n):\")\n",
    "    if(ticket == 'y'):\n",
    "        print(\"You may enter\")\n",
    "else:\n",
    "    print(\"You cannot enter.\")\n",
    "    "
   ]
  },
  {
   "cell_type": "code",
   "execution_count": 2,
   "metadata": {},
   "outputs": [
    {
     "name": "stdout",
     "output_type": "stream",
     "text": [
      "Do you have a CNIC (y/n): \n",
      "You cannot cast vote\n"
     ]
    }
   ],
   "source": [
    "cnicStatus = input(\"Do you have a CNIC (y/n): \")\n",
    "if(cnicStatus == 'y'):\n",
    "    print(\"You are eligible to vote\")\n",
    "    canVote = input(\"Do you have a voter card (y/n):\");\n",
    "    if(canVote == 'y'):\n",
    "        voterList = input(\"Is your name present in voter list? (y/n):\")\n",
    "        if(voterList == 'y'):\n",
    "            print(\"Please cast your vote.\")\n",
    "        else:\n",
    "            print(\"You cannot cast vote.\")\n",
    "    else:\n",
    "        print(\"You cannot cast vote.\")\n",
    "else:\n",
    "    print(\"You cannot cast vote\")"
   ]
  },
  {
   "cell_type": "code",
   "execution_count": null,
   "metadata": {},
   "outputs": [],
   "source": []
  }
 ],
 "metadata": {
  "kernelspec": {
   "display_name": "Python 3",
   "language": "python",
   "name": "python3"
  },
  "language_info": {
   "codemirror_mode": {
    "name": "ipython",
    "version": 3
   },
   "file_extension": ".py",
   "mimetype": "text/x-python",
   "name": "python",
   "nbconvert_exporter": "python",
   "pygments_lexer": "ipython3",
   "version": "3.7.3"
  }
 },
 "nbformat": 4,
 "nbformat_minor": 2
}
