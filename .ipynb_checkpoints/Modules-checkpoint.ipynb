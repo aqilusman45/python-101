{
 "cells": [
  {
   "cell_type": "code",
   "execution_count": null,
   "metadata": {},
   "outputs": [],
   "source": [
    "import csv\n",
    "\n",
    "option = None;\n",
    "\n",
    "while option != 0:\n",
    "    print('1: Cast Vote\\n 0: Exit');\n",
    "    option = int(input())\n",
    "    if (option == 1):\n",
    "        cnic = None;\n",
    "        print('Do you have CNIC (y/n)');\n",
    "        cnic_status = input();\n",
    "        if cnic_status == \"y\":\n",
    "            cnic_number = int(input('Enter CNIC number'))\n",
    "            with open('efg.csv', \"r\") as file:\n",
    "                data_handler = csv.reader(file);\n",
    "                for x in data_handler:\n",
    "                    print(x[0])\n",
    "                    if x[0] == f'{cnic}':\n",
    "                        print('You can cast vote');\n",
    "            print('Your cnic is not in the voter list, you cannot cast vote')\n",
    "                    "
   ]
  },
  {
   "cell_type": "code",
   "execution_count": null,
   "metadata": {},
   "outputs": [],
   "source": [
    "# with open('abc.csv') as file:\n",
    "#     x = csv.reader(file);\n",
    "#     print(x)"
   ]
  },
  {
   "cell_type": "code",
   "execution_count": null,
   "metadata": {},
   "outputs": [],
   "source": [
    "# with open('abc.csv') as file:\n",
    "#     x = csv.reader(file);\n",
    "#     for record in x:\n",
    "#         print(record)"
   ]
  },
  {
   "cell_type": "code",
   "execution_count": null,
   "metadata": {},
   "outputs": [],
   "source": [
    "# with open('abc.csv') as file:\n",
    "#     x = csv.reader(file);\n",
    "#     data = []\n",
    "#     for record in x:\n",
    "#         data += record\n",
    "\n",
    "# print(data)"
   ]
  },
  {
   "cell_type": "code",
   "execution_count": null,
   "metadata": {},
   "outputs": [],
   "source": [
    "# with open('xyz.csv', \"w\", newline=\"\") as file:\n",
    "#     data_handler = csv.writer(file, delimiter=\",\")\n",
    "#     data_handler.writerow([\"Year\", \"Event\", \" Winner\"])\n",
    "#     data_handler.writerow([\"1987\", \"CWC\", \"Pakistan\"])\n",
    "#     data_handler.writerow([\"1967\", \"WWE\", \" Cena\"])\n"
   ]
  },
  {
   "cell_type": "code",
   "execution_count": null,
   "metadata": {},
   "outputs": [],
   "source": [
    "# with open('xyz.csv', \"a\", newline=\"\") as file:\n",
    "#     data_handler = csv.writer(file, delimiter=\",\")\n",
    "#     data_handler.writerow([\"Year\", \"Event\", \" Winner\"])\n",
    "#     data_handler.writerow([\"1987\", \"CWC\", \"Pakistan\"])\n",
    "#     data_handler.writerow([\"1967\", \"WWE\", \" Cena\"])\n"
   ]
  },
  {
   "cell_type": "code",
   "execution_count": null,
   "metadata": {},
   "outputs": [],
   "source": []
  },
  {
   "cell_type": "code",
   "execution_count": null,
   "metadata": {},
   "outputs": [],
   "source": []
  },
  {
   "cell_type": "code",
   "execution_count": null,
   "metadata": {},
   "outputs": [],
   "source": []
  }
 ],
 "metadata": {
  "kernelspec": {
   "display_name": "Python 3",
   "language": "python",
   "name": "python3"
  },
  "language_info": {
   "codemirror_mode": {
    "name": "ipython",
    "version": 3
   },
   "file_extension": ".py",
   "mimetype": "text/x-python",
   "name": "python",
   "nbconvert_exporter": "python",
   "pygments_lexer": "ipython3",
   "version": "3.7.3"
  }
 },
 "nbformat": 4,
 "nbformat_minor": 2
}
