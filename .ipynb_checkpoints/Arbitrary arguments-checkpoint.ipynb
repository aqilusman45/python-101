{
 "cells": [
  {
   "cell_type": "markdown",
   "metadata": {},
   "source": [
    "# Arbitrary Arguments\n",
    "    "
   ]
  },
  {
   "cell_type": "code",
   "execution_count": 1,
   "metadata": {},
   "outputs": [],
   "source": [
    "def car(model, make, *specs):\n",
    "    print(model, make)\n",
    "    print(specs)"
   ]
  },
  {
   "cell_type": "code",
   "execution_count": 3,
   "metadata": {},
   "outputs": [
    {
     "name": "stdout",
     "output_type": "stream",
     "text": [
      "2010 toyota corolla\n",
      "('alloyrims', 'power staring', 'power window')\n"
     ]
    }
   ],
   "source": [
    "car(2010, \"toyota corolla\", 'alloyrims', 'power staring', 'power window')"
   ]
  },
  {
   "cell_type": "code",
   "execution_count": 4,
   "metadata": {},
   "outputs": [
    {
     "name": "stdout",
     "output_type": "stream",
     "text": [
      "2010 toyota corolla\n",
      "('alloyrims',)\n"
     ]
    }
   ],
   "source": [
    "car(2010, \"toyota corolla\", 'alloyrims')"
   ]
  },
  {
   "cell_type": "code",
   "execution_count": 6,
   "metadata": {},
   "outputs": [],
   "source": [
    "def friend(name, dob, *specs):\n",
    "    print(name,dob)\n",
    "    print(specs)"
   ]
  },
  {
   "cell_type": "code",
   "execution_count": 9,
   "metadata": {},
   "outputs": [
    {
     "name": "stdout",
     "output_type": "stream",
     "text": [
      "sameer 1989\n",
      "('faltu admi',)\n"
     ]
    }
   ],
   "source": [
    "friend('sameer', 1989, 'faltu admi')"
   ]
  },
  {
   "cell_type": "code",
   "execution_count": 13,
   "metadata": {},
   "outputs": [],
   "source": [
    "def order(product, orderFulfillmentMethod, *details):\n",
    "    print(product)\n",
    "    print(orderFulfillmentMethod)\n",
    "    print(details)\n",
    "    "
   ]
  },
  {
   "cell_type": "code",
   "execution_count": 14,
   "metadata": {},
   "outputs": [
    {
     "name": "stdout",
     "output_type": "stream",
     "text": [
      "mobile\n",
      "COD\n",
      "(['price', 'color', 'units'],)\n"
     ]
    }
   ],
   "source": [
    "order('mobile', 'COD', ['price', 'color', 'units'])"
   ]
  },
  {
   "cell_type": "code",
   "execution_count": 21,
   "metadata": {},
   "outputs": [],
   "source": [
    "def pizza(name, size, bill, *toppings):\n",
    "    print(f'Your Pizza is {name}, with size {size} with topping {toppings} and your bill is {bill}');\n"
   ]
  },
  {
   "cell_type": "code",
   "execution_count": 22,
   "metadata": {},
   "outputs": [
    {
     "name": "stdout",
     "output_type": "stream",
     "text": [
      "Your Pizza is chiken tikka, with size large with topping (['Mashrooms', 'Olives', 'PineApple'],) and your bill is $10\n"
     ]
    }
   ],
   "source": [
    "pizza('chiken tikka', 'large', '$10', ['Mashrooms', 'Olives', 'PineApple'])"
   ]
  },
  {
   "cell_type": "code",
   "execution_count": null,
   "metadata": {},
   "outputs": [],
   "source": [
    "def pizza(name, size, bill, *toppings):\n",
    "    print(f'Your Pizza is {name}, with size {size} with topping {\n",
    "    for topping in toppings:\n",
    "        print(topping, end=' ')\n",
    "        } and your bill is {bill}');\n",
    "    "
   ]
  }
 ],
 "metadata": {
  "kernelspec": {
   "display_name": "Python 3",
   "language": "python",
   "name": "python3"
  },
  "language_info": {
   "codemirror_mode": {
    "name": "ipython",
    "version": 3
   },
   "file_extension": ".py",
   "mimetype": "text/x-python",
   "name": "python",
   "nbconvert_exporter": "python",
   "pygments_lexer": "ipython3",
   "version": "3.7.3"
  }
 },
 "nbformat": 4,
 "nbformat_minor": 2
}
