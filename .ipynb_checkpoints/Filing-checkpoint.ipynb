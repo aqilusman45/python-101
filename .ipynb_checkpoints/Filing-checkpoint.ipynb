{
 "cells": [
  {
   "cell_type": "markdown",
   "metadata": {},
   "source": [
    "# Filing\n"
   ]
  },
  {
   "cell_type": "code",
   "execution_count": 3,
   "metadata": {},
   "outputs": [],
   "source": [
    "with open (\"whatever.txt\", \"w\") as file:\n",
    "    file.write(\"Hello World Python\")"
   ]
  },
  {
   "cell_type": "code",
   "execution_count": 4,
   "metadata": {},
   "outputs": [
    {
     "name": "stdout",
     "output_type": "stream",
     "text": [
      "Hello World Python\n"
     ]
    }
   ],
   "source": [
    "with open (\"whatever.txt\", \"r\") as file:\n",
    "    print(file.read())"
   ]
  },
  {
   "cell_type": "code",
   "execution_count": 5,
   "metadata": {},
   "outputs": [],
   "source": [
    "with open (\"whatever.txt\", \"a\") as file:\n",
    "    file.write(\" HAHAHAH\")"
   ]
  },
  {
   "cell_type": "code",
   "execution_count": 6,
   "metadata": {},
   "outputs": [
    {
     "name": "stdout",
     "output_type": "stream",
     "text": [
      "Hello World Python HAHAHAH\n"
     ]
    }
   ],
   "source": [
    "with open (\"whatever.txt\", \"r\") as file:\n",
    "    print(file.read())"
   ]
  },
  {
   "cell_type": "code",
   "execution_count": null,
   "metadata": {},
   "outputs": [],
   "source": []
  },
  {
   "cell_type": "code",
   "execution_count": 7,
   "metadata": {},
   "outputs": [
    {
     "name": "stdout",
     "output_type": "stream",
     "text": [
      "jskaijs\n"
     ]
    }
   ],
   "source": [
    "print(\"jskaijs\")"
   ]
  },
  {
   "cell_type": "code",
   "execution_count": 10,
   "metadata": {},
   "outputs": [
    {
     "name": "stdout",
     "output_type": "stream",
     "text": [
      "Enter info in this format: \n",
      " name age cnicusman 23 1212\n",
      "Enter info in this format: \n",
      " name age cnicusman 23 1212\n",
      "Enter info in this format: \n",
      " name age cnicusman 23 1212\n"
     ]
    }
   ],
   "source": [
    "file_name = \"Records.txt\"\n",
    "\n",
    "with open(file_name, \"a\") as file:\n",
    "    file.write(f\"name age cnic\\n\")\n",
    "    for x in range(3):\n",
    "        content = input(\"Enter info in this format: \\n name age cnic\" )\n",
    "        file.write(f\"{content}\\n\")"
   ]
  },
  {
   "cell_type": "code",
   "execution_count": 11,
   "metadata": {},
   "outputs": [
    {
     "name": "stdout",
     "output_type": "stream",
     "text": [
      "usman 23 1212\n",
      "usman 23 1212\n",
      "usman 23 1212\n",
      "name age cnic\n",
      "usman 23 1212\n",
      "usman 23 1212\n",
      "usman 23 1212\n",
      "\n"
     ]
    }
   ],
   "source": [
    "with open (file_name, \"r\") as file:\n",
    "    print(file.read())"
   ]
  },
  {
   "cell_type": "code",
   "execution_count": null,
   "metadata": {},
   "outputs": [],
   "source": [
    "file_name = \"Records.txt\"\n",
    "#Read and append at same time with r+ directive\n",
    "with open(file_name, \"r+\") as file:\n",
    "    file.write(f\"name age cnic\\n\")\n",
    "    for x in range(3):\n",
    "        content = input(\"Enter info in this format: \\n name age cnic \" )\n",
    "        file.write(f\"{content}\\n\")"
   ]
  },
  {
   "cell_type": "code",
   "execution_count": null,
   "metadata": {},
   "outputs": [],
   "source": []
  }
 ],
 "metadata": {
  "kernelspec": {
   "display_name": "Python 3",
   "language": "python",
   "name": "python3"
  },
  "language_info": {
   "codemirror_mode": {
    "name": "ipython",
    "version": 3
   },
   "file_extension": ".py",
   "mimetype": "text/x-python",
   "name": "python",
   "nbconvert_exporter": "python",
   "pygments_lexer": "ipython3",
   "version": "3.7.3"
  }
 },
 "nbformat": 4,
 "nbformat_minor": 2
}
