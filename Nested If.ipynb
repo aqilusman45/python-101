{
 "cells": [
  {
   "cell_type": "code",
   "execution_count": 4,
   "metadata": {},
   "outputs": [
    {
     "name": "stdout",
     "output_type": "stream",
     "text": [
      "Hello\n",
      "Hi\n",
      "World\n"
     ]
    }
   ],
   "source": [
    "#Nested If\n",
    "a=b=c=0\n",
    "if a==b:\n",
    "    print(\"Hello\")\n",
    "    if b==c:\n",
    "        print(\"Hi\")\n",
    "        if c==0:\n",
    "            print(\"World\")\n",
    "        "
   ]
  },
  {
   "cell_type": "code",
   "execution_count": 15,
   "metadata": {},
   "outputs": [
    {
     "name": "stdout",
     "output_type": "stream",
     "text": [
      "Do you have a valid CNICe\n",
      "You can not vote\n"
     ]
    }
   ],
   "source": [
    "cnic_status= input(\"Do you have a valid CNIC\").lower();\n",
    "if cnic_status == \"yes\":\n",
    "    print(\"Come Inside\");\n",
    "    name_in_list= input(\"Is your name in the voter list\")\n",
    "    if name_in_list == \"yes\":\n",
    "        print(\"Please cast your vote\");\n",
    "    else:\n",
    "        print(\"You can not vote\");\n",
    "else:\n",
    "    print(\"You can not vote\");"
   ]
  },
  {
   "cell_type": "markdown",
   "metadata": {},
   "source": [
    "# && Operator"
   ]
  },
  {
   "cell_type": "code",
   "execution_count": 21,
   "metadata": {},
   "outputs": [
    {
     "name": "stdout",
     "output_type": "stream",
     "text": [
      "Do you have a valid CNICyes\n",
      "Is your name in the voter listyes\n",
      "Come Inside\n",
      "You can vote\n"
     ]
    }
   ],
   "source": [
    "cnic_status= input(\"Do you have a valid CNIC\").lower();\n",
    "name_in_list= input(\"Is your name in the voter list\").lower();\n",
    "\n",
    "if ((cnic_status == \"yes\") and (name_in_list == \"yes\")):\n",
    "    print(\"Come Inside\");\n",
    "    print(\"You can vote\");\n",
    "else: \n",
    "    print(\"You cannot vote\");\n",
    "    "
   ]
  },
  {
   "cell_type": "markdown",
   "metadata": {},
   "source": [
    "# assignment\n"
   ]
  },
  {
   "cell_type": "code",
   "execution_count": 33,
   "metadata": {},
   "outputs": [
    {
     "name": "stdout",
     "output_type": "stream",
     "text": [
      "Please Enter Your Marks89\n",
      "Your Grade is A\n"
     ]
    }
   ],
   "source": [
    "#Grading System\n",
    "\n",
    "marks = int(input(\"Please Enter Your Marks\"));\n",
    "grade;\n",
    "\n",
    "if marks >= 90:\n",
    "    grade = \"A*\";\n",
    "elif marks >= 80:\n",
    "    grade =\"A\";\n",
    "elif marks >= 70:\n",
    "    grade = \"B\";\n",
    "elif marks >= 60:\n",
    "    grade = \"C\";\n",
    "elif marks >= 50:\n",
    "    grade = \"D\";\n",
    "elif marks < 50:\n",
    "    grade = \"You did not pass\";\n",
    "\n",
    "print(f\"Your Grade is {grade}\");"
   ]
  },
  {
   "cell_type": "code",
   "execution_count": 35,
   "metadata": {},
   "outputs": [
    {
     "name": "stdout",
     "output_type": "stream",
     "text": [
      "Enter your Grade: b\n",
      "You entered a consonent\n"
     ]
    }
   ],
   "source": [
    "char = input(\"Enter your Grade: \");\n",
    "\n",
    "if ((char == \"a\" ) or (char == \"e\") or (char == \"i\") or (char == \"o\") or (char == \"u\")):\n",
    "    print(\"Character you Entered is Vowel\");\n",
    "else:\n",
    "    print(\"You entered a consonent\");\n",
    "    "
   ]
  },
  {
   "cell_type": "markdown",
   "metadata": {},
   "source": [
    "# List"
   ]
  },
  {
   "cell_type": "code",
   "execution_count": 48,
   "metadata": {},
   "outputs": [
    {
     "data": {
      "text/plain": [
       "5"
      ]
     },
     "execution_count": 48,
     "metadata": {},
     "output_type": "execute_result"
    }
   ],
   "source": [
    "aList = [\"usman\", \"sameer\", \"ahmed\", \"shah\", \"ali\"]\n",
    "# list can hold any data type\n",
    "len(aList)"
   ]
  },
  {
   "cell_type": "code",
   "execution_count": 49,
   "metadata": {},
   "outputs": [],
   "source": [
    "aList.sort()\n",
    "#acsending order "
   ]
  },
  {
   "cell_type": "code",
   "execution_count": 53,
   "metadata": {},
   "outputs": [
    {
     "name": "stdout",
     "output_type": "stream",
     "text": [
      "ahmed\n"
     ]
    }
   ],
   "source": [
    "print(aList[0])\n",
    "x = aList\n",
    "aList[0] = \"Shaheryar\""
   ]
  },
  {
   "cell_type": "code",
   "execution_count": 63,
   "metadata": {},
   "outputs": [
    {
     "name": "stdout",
     "output_type": "stream",
     "text": [
      "['usman']\n",
      "[]\n"
     ]
    }
   ],
   "source": [
    "#to delete a value in an array we use the del keyword\n",
    "print(aList)\n",
    "del aList[0]\n",
    "print(aList)"
   ]
  },
  {
   "cell_type": "code",
   "execution_count": 66,
   "metadata": {},
   "outputs": [
    {
     "name": "stdout",
     "output_type": "stream",
     "text": [
      "[1232, 1232]\n",
      "[1232, 1232, False]\n"
     ]
    }
   ],
   "source": [
    "# add a value in an array\n",
    "print(aList)\n",
    "aList.append(False)\n",
    "print(aList)"
   ]
  },
  {
   "cell_type": "code",
   "execution_count": 73,
   "metadata": {},
   "outputs": [
    {
     "name": "stdout",
     "output_type": "stream",
     "text": [
      "[1232, 1232, 'hello', False, 'hello', 'hello', 'hello', 'hello', 'hello', 'hello']\n"
     ]
    }
   ],
   "source": [
    "aList.insert(2, \"hello\")\n",
    "print(aList)"
   ]
  }
 ],
 "metadata": {
  "kernelspec": {
   "display_name": "Python 3",
   "language": "python",
   "name": "python3"
  },
  "language_info": {
   "codemirror_mode": {
    "name": "ipython",
    "version": 3
   },
   "file_extension": ".py",
   "mimetype": "text/x-python",
   "name": "python",
   "nbconvert_exporter": "python",
   "pygments_lexer": "ipython3",
   "version": "3.7.3"
  }
 },
 "nbformat": 4,
 "nbformat_minor": 2
}
