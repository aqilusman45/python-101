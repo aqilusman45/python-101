{
 "cells": [
  {
   "cell_type": "code",
   "execution_count": null,
   "metadata": {},
   "outputs": [
    {
     "name": "stdout",
     "output_type": "stream",
     "text": [
      "1: Cast Vote\n",
      " 0: Exit\n",
      "1\n",
      "Do you have CNIC (y/n)\n",
      "y\n",
      "Enter CNIC number72356\n",
      "Your cnic is not in the voter list, you cannot cast vote\n",
      "1: Cast Vote\n",
      " 0: Exit\n"
     ]
    }
   ],
   "source": [
    "import csv\n",
    "\n",
    "option = None;\n",
    "\n",
    "while option != 0:\n",
    "    print('1: Cast Vote\\n 0: Exit');\n",
    "    option = int(input())\n",
    "    if (option == 1):\n",
    "        cnic = None;\n",
    "        print('Do you have CNIC (y/n)');\n",
    "        cnic_status = input();\n",
    "        if cnic_status == \"y\":\n",
    "            cnic_number = input('Enter CNIC number')\n",
    "            with open('efg.csv', \"r\") as file:\n",
    "                data_handler = csv.reader(file);\n",
    "                for x in data_handler:\n",
    "                    if x[0] ==  cnic_number:\n",
    "                        print('You can cast vote');\n",
    "                        break\n",
    "                    elif x[0] != cnic_number:\n",
    "                        print('Your cnic is not in the voter list, you cannot cast vote')\n",
    "                        break\n",
    "                    \n",
    "                    "
   ]
  },
  {
   "cell_type": "code",
   "execution_count": null,
   "metadata": {},
   "outputs": [],
   "source": []
  },
  {
   "cell_type": "code",
   "execution_count": null,
   "metadata": {},
   "outputs": [],
   "source": []
  },
  {
   "cell_type": "code",
   "execution_count": null,
   "metadata": {},
   "outputs": [],
   "source": []
  }
 ],
 "metadata": {
  "kernelspec": {
   "display_name": "Python 3",
   "language": "python",
   "name": "python3"
  },
  "language_info": {
   "codemirror_mode": {
    "name": "ipython",
    "version": 3
   },
   "file_extension": ".py",
   "mimetype": "text/x-python",
   "name": "python",
   "nbconvert_exporter": "python",
   "pygments_lexer": "ipython3",
   "version": "3.7.3"
  }
 },
 "nbformat": 4,
 "nbformat_minor": 2
}
