{
 "cells": [
  {
   "cell_type": "markdown",
   "metadata": {},
   "source": [
    "# Arbitrary Arguments\n",
    "    "
   ]
  },
  {
   "cell_type": "code",
   "execution_count": 1,
   "metadata": {},
   "outputs": [],
   "source": [
    "def car(model, make, *specs):\n",
    "    print(model, make)\n",
    "    print(specs)"
   ]
  },
  {
   "cell_type": "code",
   "execution_count": 3,
   "metadata": {},
   "outputs": [
    {
     "name": "stdout",
     "output_type": "stream",
     "text": [
      "2010 toyota corolla\n",
      "('alloyrims', 'power staring', 'power window')\n"
     ]
    }
   ],
   "source": [
    "car(2010, \"toyota corolla\", 'alloyrims', 'power staring', 'power window')"
   ]
  },
  {
   "cell_type": "code",
   "execution_count": 4,
   "metadata": {},
   "outputs": [
    {
     "name": "stdout",
     "output_type": "stream",
     "text": [
      "2010 toyota corolla\n",
      "('alloyrims',)\n"
     ]
    }
   ],
   "source": [
    "car(2010, \"toyota corolla\", 'alloyrims')"
   ]
  },
  {
   "cell_type": "code",
   "execution_count": 6,
   "metadata": {},
   "outputs": [],
   "source": [
    "def friend(name, dob, *specs):\n",
    "    print(name,dob)\n",
    "    print(specs)"
   ]
  },
  {
   "cell_type": "code",
   "execution_count": 9,
   "metadata": {},
   "outputs": [
    {
     "name": "stdout",
     "output_type": "stream",
     "text": [
      "sameer 1989\n",
      "('faltu admi',)\n"
     ]
    }
   ],
   "source": [
    "friend('sameer', 1989, 'faltu admi')"
   ]
  },
  {
   "cell_type": "code",
   "execution_count": 13,
   "metadata": {},
   "outputs": [],
   "source": [
    "def order(product, orderFulfillmentMethod, *details):\n",
    "    print(product)\n",
    "    print(orderFulfillmentMethod)\n",
    "    print(details)\n",
    "    "
   ]
  },
  {
   "cell_type": "code",
   "execution_count": 14,
   "metadata": {},
   "outputs": [
    {
     "name": "stdout",
     "output_type": "stream",
     "text": [
      "mobile\n",
      "COD\n",
      "(['price', 'color', 'units'],)\n"
     ]
    }
   ],
   "source": [
    "order('mobile', 'COD', ['price', 'color', 'units'])"
   ]
  },
  {
   "cell_type": "code",
   "execution_count": 21,
   "metadata": {},
   "outputs": [],
   "source": [
    "def pizza(name, size, bill, *toppings):\n",
    "    print(f'Your Pizza is {name}, with size {size} with topping {toppings} and your bill is {bill}');\n"
   ]
  },
  {
   "cell_type": "code",
   "execution_count": 22,
   "metadata": {},
   "outputs": [
    {
     "name": "stdout",
     "output_type": "stream",
     "text": [
      "Your Pizza is chiken tikka, with size large with topping (['Mashrooms', 'Olives', 'PineApple'],) and your bill is $10\n"
     ]
    }
   ],
   "source": [
    "pizza('chiken tikka', 'large', '$10', ['Mashrooms', 'Olives', 'PineApple'])"
   ]
  },
  {
   "cell_type": "code",
   "execution_count": 27,
   "metadata": {},
   "outputs": [],
   "source": [
    "def pizza(name, size, bill, *toppings):\n",
    "    print(f'Your Pizza is {name}, with size {size} with topping')\n",
    "    for topping in toppings:\n",
    "        print(topping);\n",
    "    print(f'and your bill is {bill}');"
   ]
  },
  {
   "cell_type": "code",
   "execution_count": 29,
   "metadata": {},
   "outputs": [
    {
     "name": "stdout",
     "output_type": "stream",
     "text": [
      "Your Pizza is chikken tikka, with size Large with topping\n",
      "['cheesy', 'Olives', 'PineApple']\n",
      "and your bill is $10\n"
     ]
    }
   ],
   "source": [
    "pizza('chikken tikka', 'Large', \"$10\", ['cheesy', 'Olives', 'PineApple'])"
   ]
  },
  {
   "cell_type": "code",
   "execution_count": 36,
   "metadata": {},
   "outputs": [],
   "source": [
    "def person(fname, lname, **about):\n",
    "    print(f'{fname} {lname}')\n",
    "    print(about)\n",
    "    print(f'Age = {about[\"age\"]} and Address is {about[\"address\"]}')    "
   ]
  },
  {
   "cell_type": "code",
   "execution_count": 37,
   "metadata": {},
   "outputs": [
    {
     "name": "stdout",
     "output_type": "stream",
     "text": [
      "usman aqil\n",
      "{'age': 30, 'address': 'Karachi'}\n",
      "Age = 30 and Address is Karachi\n"
     ]
    }
   ],
   "source": [
    "person('usman', 'aqil', age=30, address='Karachi')"
   ]
  },
  {
   "cell_type": "markdown",
   "metadata": {},
   "source": [
    "# Functions as Variables"
   ]
  },
  {
   "cell_type": "code",
   "execution_count": 38,
   "metadata": {},
   "outputs": [],
   "source": [
    "def sum():\n",
    "    x = 4 + 9\n",
    "    return x;"
   ]
  },
  {
   "cell_type": "code",
   "execution_count": 39,
   "metadata": {},
   "outputs": [],
   "source": [
    "def diff():\n",
    "    y = 29 - 9\n",
    "    return y"
   ]
  },
  {
   "cell_type": "code",
   "execution_count": 40,
   "metadata": {},
   "outputs": [
    {
     "name": "stdout",
     "output_type": "stream",
     "text": [
      "33\n"
     ]
    }
   ],
   "source": [
    "answer = sum() + diff()\n",
    "print(answer)"
   ]
  },
  {
   "cell_type": "code",
   "execution_count": 45,
   "metadata": {},
   "outputs": [],
   "source": [
    "def salary(basic, commission):\n",
    "    print(f\"your salary is:{basic + commission}\")\n"
   ]
  },
  {
   "cell_type": "code",
   "execution_count": 46,
   "metadata": {},
   "outputs": [],
   "source": [
    "def commisionCalculator(sales):\n",
    "    if (sales>=100000):\n",
    "        percentage =30\n",
    "    elif (sales >= 50000):\n",
    "        percentage = 20;\n",
    "    elif (sales >= 30000):\n",
    "        percentage = 10;\n",
    "    elif (sales >= 10000):\n",
    "        percentage = 5\n",
    "    else:\n",
    "        percentage = 0\n",
    "    commission = sales/100*percentage\n",
    "    return commission"
   ]
  },
  {
   "cell_type": "code",
   "execution_count": 48,
   "metadata": {},
   "outputs": [
    {
     "name": "stdout",
     "output_type": "stream",
     "text": [
      "your salary is:26000.0\n"
     ]
    }
   ],
   "source": [
    "salary(basic = 25000, commission = commisionCalculator(20000))"
   ]
  },
  {
   "cell_type": "code",
   "execution_count": 49,
   "metadata": {},
   "outputs": [
    {
     "name": "stdout",
     "output_type": "stream",
     "text": [
      "your salary is:26000.0\n"
     ]
    }
   ],
   "source": [
    "salary(25000, commisionCalculator(20000))"
   ]
  },
  {
   "cell_type": "code",
   "execution_count": null,
   "metadata": {},
   "outputs": [],
   "source": []
  },
  {
   "cell_type": "code",
   "execution_count": null,
   "metadata": {},
   "outputs": [],
   "source": []
  }
 ],
 "metadata": {
  "kernelspec": {
   "display_name": "Python 3",
   "language": "python",
   "name": "python3"
  },
  "language_info": {
   "codemirror_mode": {
    "name": "ipython",
    "version": 3
   },
   "file_extension": ".py",
   "mimetype": "text/x-python",
   "name": "python",
   "nbconvert_exporter": "python",
   "pygments_lexer": "ipython3",
   "version": "3.7.3"
  }
 },
 "nbformat": 4,
 "nbformat_minor": 2
}
